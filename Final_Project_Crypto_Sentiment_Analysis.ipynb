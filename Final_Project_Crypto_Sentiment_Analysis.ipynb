{
 "cells": [
  {
   "cell_type": "code",
   "execution_count": 1,
   "metadata": {},
   "outputs": [
    {
     "name": "stderr",
     "output_type": "stream",
     "text": [
      "C:\\ProgramData\\Anaconda3\\lib\\site-packages\\sklearn\\feature_extraction\\image.py:167: DeprecationWarning: `np.int` is a deprecated alias for the builtin `int`. To silence this warning, use `int` by itself. Doing this will not modify any behavior and is safe. When replacing `np.int`, you may wish to use e.g. `np.int64` or `np.int32` to specify the precision. If you wish to review your current use, check the release note link for additional information.\n",
      "Deprecated in NumPy 1.20; for more details and guidance: https://numpy.org/devdocs/release/1.20.0-notes.html#deprecations\n",
      "  dtype=np.int):\n",
      "C:\\ProgramData\\Anaconda3\\lib\\site-packages\\sklearn\\linear_model\\least_angle.py:30: DeprecationWarning: `np.float` is a deprecated alias for the builtin `float`. To silence this warning, use `float` by itself. Doing this will not modify any behavior and is safe. If you specifically wanted the numpy scalar type, use `np.float64` here.\n",
      "Deprecated in NumPy 1.20; for more details and guidance: https://numpy.org/devdocs/release/1.20.0-notes.html#deprecations\n",
      "  method='lar', copy_X=True, eps=np.finfo(np.float).eps,\n",
      "C:\\ProgramData\\Anaconda3\\lib\\site-packages\\sklearn\\linear_model\\least_angle.py:167: DeprecationWarning: `np.float` is a deprecated alias for the builtin `float`. To silence this warning, use `float` by itself. Doing this will not modify any behavior and is safe. If you specifically wanted the numpy scalar type, use `np.float64` here.\n",
      "Deprecated in NumPy 1.20; for more details and guidance: https://numpy.org/devdocs/release/1.20.0-notes.html#deprecations\n",
      "  method='lar', copy_X=True, eps=np.finfo(np.float).eps,\n",
      "C:\\ProgramData\\Anaconda3\\lib\\site-packages\\sklearn\\linear_model\\least_angle.py:284: DeprecationWarning: `np.float` is a deprecated alias for the builtin `float`. To silence this warning, use `float` by itself. Doing this will not modify any behavior and is safe. If you specifically wanted the numpy scalar type, use `np.float64` here.\n",
      "Deprecated in NumPy 1.20; for more details and guidance: https://numpy.org/devdocs/release/1.20.0-notes.html#deprecations\n",
      "  eps=np.finfo(np.float).eps, copy_Gram=True, verbose=0,\n",
      "C:\\ProgramData\\Anaconda3\\lib\\site-packages\\sklearn\\linear_model\\least_angle.py:862: DeprecationWarning: `np.float` is a deprecated alias for the builtin `float`. To silence this warning, use `float` by itself. Doing this will not modify any behavior and is safe. If you specifically wanted the numpy scalar type, use `np.float64` here.\n",
      "Deprecated in NumPy 1.20; for more details and guidance: https://numpy.org/devdocs/release/1.20.0-notes.html#deprecations\n",
      "  eps=np.finfo(np.float).eps, copy_X=True, fit_path=True,\n",
      "C:\\ProgramData\\Anaconda3\\lib\\site-packages\\sklearn\\linear_model\\least_angle.py:1101: DeprecationWarning: `np.float` is a deprecated alias for the builtin `float`. To silence this warning, use `float` by itself. Doing this will not modify any behavior and is safe. If you specifically wanted the numpy scalar type, use `np.float64` here.\n",
      "Deprecated in NumPy 1.20; for more details and guidance: https://numpy.org/devdocs/release/1.20.0-notes.html#deprecations\n",
      "  eps=np.finfo(np.float).eps, copy_X=True, fit_path=True,\n",
      "C:\\ProgramData\\Anaconda3\\lib\\site-packages\\sklearn\\linear_model\\least_angle.py:1127: DeprecationWarning: `np.float` is a deprecated alias for the builtin `float`. To silence this warning, use `float` by itself. Doing this will not modify any behavior and is safe. If you specifically wanted the numpy scalar type, use `np.float64` here.\n",
      "Deprecated in NumPy 1.20; for more details and guidance: https://numpy.org/devdocs/release/1.20.0-notes.html#deprecations\n",
      "  eps=np.finfo(np.float).eps, positive=False):\n",
      "C:\\ProgramData\\Anaconda3\\lib\\site-packages\\sklearn\\linear_model\\least_angle.py:1362: DeprecationWarning: `np.float` is a deprecated alias for the builtin `float`. To silence this warning, use `float` by itself. Doing this will not modify any behavior and is safe. If you specifically wanted the numpy scalar type, use `np.float64` here.\n",
      "Deprecated in NumPy 1.20; for more details and guidance: https://numpy.org/devdocs/release/1.20.0-notes.html#deprecations\n",
      "  max_n_alphas=1000, n_jobs=None, eps=np.finfo(np.float).eps,\n",
      "C:\\ProgramData\\Anaconda3\\lib\\site-packages\\sklearn\\linear_model\\least_angle.py:1602: DeprecationWarning: `np.float` is a deprecated alias for the builtin `float`. To silence this warning, use `float` by itself. Doing this will not modify any behavior and is safe. If you specifically wanted the numpy scalar type, use `np.float64` here.\n",
      "Deprecated in NumPy 1.20; for more details and guidance: https://numpy.org/devdocs/release/1.20.0-notes.html#deprecations\n",
      "  max_n_alphas=1000, n_jobs=None, eps=np.finfo(np.float).eps,\n",
      "C:\\ProgramData\\Anaconda3\\lib\\site-packages\\sklearn\\linear_model\\least_angle.py:1738: DeprecationWarning: `np.float` is a deprecated alias for the builtin `float`. To silence this warning, use `float` by itself. Doing this will not modify any behavior and is safe. If you specifically wanted the numpy scalar type, use `np.float64` here.\n",
      "Deprecated in NumPy 1.20; for more details and guidance: https://numpy.org/devdocs/release/1.20.0-notes.html#deprecations\n",
      "  eps=np.finfo(np.float).eps, copy_X=True, positive=False):\n",
      "C:\\ProgramData\\Anaconda3\\lib\\site-packages\\sklearn\\decomposition\\online_lda.py:29: DeprecationWarning: `np.float` is a deprecated alias for the builtin `float`. To silence this warning, use `float` by itself. Doing this will not modify any behavior and is safe. If you specifically wanted the numpy scalar type, use `np.float64` here.\n",
      "Deprecated in NumPy 1.20; for more details and guidance: https://numpy.org/devdocs/release/1.20.0-notes.html#deprecations\n",
      "  EPS = np.finfo(np.float).eps\n"
     ]
    },
    {
     "name": "stdout",
     "output_type": "stream",
     "text": [
      "2021-06-26 10:48:50,819 loading file C:\\Users\\h.pineda\\.flair\\models\\sentiment-en-mix-ft-rnn.pt\n"
     ]
    }
   ],
   "source": [
    "import warnings\n",
    "import itertools\n",
    "import numpy as np\n",
    "import matplotlib.pyplot as plt\n",
    "warnings.filterwarnings(\"ignore\")\n",
    "plt.style.use('fivethirtyeight')\n",
    "import pandas as pd\n",
    "import statsmodels.api as sm\n",
    "import matplotlib\n",
    "import matplotlib.pyplot as plt\n",
    "import matplotlib.ticker as ticker\n",
    "pd.set_option('display.max_rows', None)\n",
    "pd.set_option('display.max_colwidth', None)  \n",
    "matplotlib.rcParams['axes.labelsize'] = 14\n",
    "matplotlib.rcParams['xtick.labelsize'] = 12\n",
    "matplotlib.rcParams['ytick.labelsize'] = 12\n",
    "matplotlib.rcParams['figure.figsize'] = 10, 10\n",
    "matplotlib.rcParams['text.color'] = 'k'\n",
    "\n",
    "import time\n",
    "import requests #for api requests\n",
    "import flair\n",
    "#sentiment_model = flair.models.TextClassifier.load('en-sentiment') BERT traditional sentiment model more accurate, longer time to process\n",
    "sentiment_model = flair.models.TextClassifier.load('sentiment-fast')# for fast sentiment analysis\n",
    "import re #for regex\n",
    "from datetime import datetime, timedelta #for date manipulation\n",
    "\n"
   ]
  },
  {
   "cell_type": "code",
   "execution_count": 2,
   "metadata": {},
   "outputs": [],
   "source": [
    "#response_tweet.json()"
   ]
  },
  {
   "cell_type": "code",
   "execution_count": 3,
   "metadata": {},
   "outputs": [],
   "source": [
    "def get_data(tweet):\n",
    "    data = {\n",
    "        'id': tweet['id_str'],\n",
    "        'created_at': tweet['created_at'],\n",
    "        'text': tweet['full_text']\n",
    "    }\n",
    "    return data"
   ]
  },
  {
   "cell_type": "code",
   "execution_count": 4,
   "metadata": {},
   "outputs": [],
   "source": [
    "def get_data_v2(tweet):\n",
    "    data = {\n",
    "        'id': tweet['id'],\n",
    "        'created_at': tweet['created_at'],\n",
    "        'text': tweet['text']\n",
    "    }\n",
    "    return data"
   ]
  },
  {
   "cell_type": "code",
   "execution_count": 5,
   "metadata": {},
   "outputs": [],
   "source": [
    "def clean_tweets(tweet):\n",
    "    web_address = re.compile(r\"(?i)http(s):\\/\\/[a-z0-9.~_\\-\\/]+\") #cleans web addresses\n",
    "    tweet = web_address.sub('', tweet)\n",
    "    emoticons = [word for word in re.findall('\\w+',tweet) if len(word) > 1] #\\w+ keep all words w letters +: attach each word at a time\n",
    "    tweet_lower = ' '.join(emoticons).lower()\n",
    "    return tweet_lower"
   ]
  },
  {
   "cell_type": "code",
   "execution_count": 6,
   "metadata": {},
   "outputs": [],
   "source": [
    "def sentiment_generator(tweets):\n",
    "    probs = []\n",
    "    sentiments = []\n",
    "\n",
    "# use regex expressions (in clean function) to clean tweets\n",
    "    tweets['text'] = tweets['text'].apply(clean_tweets)\n",
    "\n",
    "    for tweet in tweets['text']:\n",
    "        # make prediction\n",
    "        sentence = flair.data.Sentence(tweet)\n",
    "        sentiment_model.predict(sentence)\n",
    "        # extract sentiment prediction\n",
    "        probs.append(sentence.labels[0].score)  # numerical score 0-1\n",
    "        sentiments.append(sentence.labels[0].value)  # 'POSITIVE' or 'NEGATIVE'\n",
    "\n",
    "    # add probability and sentiment predictions to tweets dataframe\n",
    "    tweets['probability'] = probs\n",
    "    tweets['sentiment'] = sentiments\n",
    "    return tweets"
   ]
  },
  {
   "cell_type": "code",
   "execution_count": 7,
   "metadata": {},
   "outputs": [],
   "source": [
    "def sentiment_generator_fast(tweets):\n",
    "    \n",
    "    probs = []\n",
    "    sentiments = []\n",
    "\n",
    "# use regex expressions (in clean function) to clean tweets\n",
    "    tweets['text'] = tweets['text'].apply(clean_tweets)\n",
    "\n",
    "    sentences = [flair.data.Sentence(tweet) for tweet in tweets['text']]\n",
    "    sentiment_model.predict(sentences, mini_batch_size=32)  # make prediction\n",
    "    for sent in sentences: \n",
    "        # extract sentiment prediction\n",
    "        probs.append(sent.labels[0].score)  # numerical score 0-1\n",
    "        sentiments.append(sent.labels[0].value)  # 'POSITIVE' or 'NEGATIVE'\n",
    "\n",
    "    # add probability and sentiment predictions to tweets dataframe\n",
    "    tweets['probability'] = probs\n",
    "    tweets['sentiment'] = sentiments\n",
    "    return tweets"
   ]
  },
  {
   "cell_type": "code",
   "execution_count": 8,
   "metadata": {},
   "outputs": [],
   "source": [
    "def time_travel(now, mins):\n",
    "    dtformat = '%Y-%m-%dT%H:%M:%SZ'\n",
    "    now = datetime.strptime(now, dtformat)\n",
    "    back_in_time = now - timedelta(minutes=mins,seconds=10)\n",
    "    return back_in_time.strftime(dtformat)"
   ]
  },
  {
   "cell_type": "code",
   "execution_count": 90,
   "metadata": {},
   "outputs": [],
   "source": [
    "def crypto_tweets(name):\n",
    "    #twitter_key = 'BB6MLPHASHDY73PG'\n",
    "    bearer_token = 'AAAAAAAAAAAAAAAAAAAAAGQtRAEAAAAAgFzyHyNeN6DEOaOZAZHpnxnocMA%3DVCnNVxCs7qmStPlVxTTkJmJSZ8J1wZI32y2b2G45qPSCe1kwH6'\n",
    "    endpoint = 'https://api.twitter.com/2/tweets/search/recent'\n",
    "    headers = {'authorization': 'Bearer '+bearer_token}\n",
    "    params = {\n",
    "        'query': f'({name}) (lang:en)',\n",
    "        'max_results': '100',\n",
    "        'tweet.fields': 'created_at,lang'\n",
    "    }\n",
    "\n",
    "    dtformat = '%Y-%m-%dT%H:%M:%SZ'  # the date format string required by twitter\n",
    "\n",
    "    # we use this function to subtract 60 mins from our datetime string\n",
    "\n",
    "    now = datetime.utcnow() - timedelta(seconds=10) # get the current datetime, this is our starting point convert to UTC \n",
    "    last_week = now - timedelta(days=6,seconds=10)  # datetime one week ago = the finish line\n",
    "    now = now.strftime(dtformat)  # convert now datetime to format for API\n",
    "\n",
    "    df1 = pd.DataFrame()  # initialize dataframe to store tweets\n",
    "\n",
    "    while True:\n",
    "        if datetime.strptime(now, dtformat) < last_week:\n",
    "            # if we have reached 7 days ago, break the loop\n",
    "            break\n",
    "        pre60 = time_travel(now, 60)  # get 60 minutes before 'now'\n",
    "        # assign from and to datetime parameters for the API\n",
    "        params['start_time'] = pre60\n",
    "        params['end_time'] = now\n",
    "        response = requests.get(endpoint,\n",
    "                                params=params,\n",
    "                                headers=headers)  # send the request\n",
    "        now = pre60  # move the window 60 minutes earlier\n",
    "        # iteratively append our tweet data to our dataframe\n",
    "\n",
    "        for tweet in response.json()['data']:\n",
    "            row = get_data_v2(tweet)  # we defined this function earlier\n",
    "            df1 = df1.append(row, ignore_index=True)\n",
    "    df1_sentiment = sentiment_generator_fast(df1)\n",
    "    return df1_sentiment\n",
    "        "
   ]
  },
  {
   "cell_type": "code",
   "execution_count": 10,
   "metadata": {},
   "outputs": [],
   "source": [
    "def crypto_price_hour(symbol):\n",
    "    #x = input('Input cryptocurrency symbol:')\n",
    "    key = 'BB6MLPHASHDY73PG'\n",
    "    inputs = {\n",
    "      'function' : 'CRYPTO_INTRADAY',\n",
    "     'symbol' : symbol,\n",
    "     'market' : 'USD',\n",
    "     'interval': '60min',\n",
    "     'apikey' : key,   \n",
    "     'outputsize': 'full'\n",
    "    }\n",
    "\n",
    "    response = requests.get(\"https://www.alphavantage.co/query\",inputs)\n",
    "    data = pd.DataFrame(response.json()['Time Series Crypto (60min)'])\n",
    "    data = pd.DataFrame(response.json()['Time Series Crypto (60min)']).T\n",
    "    data = data.drop(columns=['2. high', '3. low', '4. close', '5. volume'], axis=1)\n",
    "    data = data.apply(pd.to_numeric)\n",
    "    data = data.round(decimals=6)\n",
    "    data = data.sort_index(ascending=True)\n",
    "    return data"
   ]
  },
  {
   "cell_type": "code",
   "execution_count": 11,
   "metadata": {},
   "outputs": [],
   "source": [
    "#Created this function to get the daily price and add price to sentiment daily average to get correlation score\n",
    "def crypto_price_day(symbol):\n",
    "    #x = input('Input cryptocurrency symbol:')\n",
    "    key = 'BB6MLPHASHDY73PG'\n",
    "    inputs = {\n",
    "      'function' : 'DIGITAL_CURRENCY_DAILY',\n",
    "     'symbol' : symbol,\n",
    "     'market' : 'USD',\n",
    "     'apikey' : key,   \n",
    "     'outputsize': 'full'\n",
    "    }\n",
    "\n",
    "    response = requests.get(\"https://www.alphavantage.co/query\",inputs)\n",
    "    data = pd.DataFrame(response.json()['Time Series (Digital Currency Daily)']).T\n",
    "    \n",
    "    data = data.drop(columns=['1b. open (USD)', '2a. high (USD)', '2b. high (USD)',\n",
    "       '3a. low (USD)', '3b. low (USD)', '4a. close (USD)', '4b. close (USD)',\n",
    "       '5. volume', '6. market cap (USD)'], axis=1)\n",
    "    data.rename(columns = {'1a. open (USD)': 'price'}, inplace = True) \n",
    "    data = data.apply(pd.to_numeric)\n",
    "    data = data.round(decimals=6)\n",
    "    data = data.sort_index(ascending=True)\n",
    "    return data"
   ]
  },
  {
   "cell_type": "code",
   "execution_count": 12,
   "metadata": {},
   "outputs": [],
   "source": [
    "def sentiment_daily_avg(price, sentiment):\n",
    "#get average price to scale sentiment score\n",
    "    coin_mean = price['1. open'].mean()\n",
    "#clean data frame\n",
    "    sentiment = sentiment.drop(columns=['id', 'text'], axis=1)\n",
    "    sentiment['created_at'] = pd.to_datetime(sentiment['created_at'])\n",
    "#transform data frame\n",
    "    sentiment.loc[sentiment['sentiment'] == 'NEGATIVE' , 'probability'] *= -coin_mean + coin_mean\n",
    "    sentiment.loc[sentiment['sentiment'] == 'POSITIVE' , 'probability'] *= coin_mean +coin_mean\n",
    "    sentiment = sentiment.drop(columns=['sentiment'])\n",
    "    sentiment = sentiment.sort_index(ascending=False)\n",
    "#convert index to year-month-day\n",
    "    sentiment['created_at'] = sentiment['created_at'].dt.date\n",
    "#group by day and get daily average    \n",
    "    sentiment= sentiment.groupby(by=['created_at']).mean()\n",
    "#add hours minutes seconds to index to start at 23 at each day for plot\n",
    "    sentiment.index = [str(i)+ ' 23:00:00' for i in sentiment.index]\n",
    "    return sentiment"
   ]
  },
  {
   "cell_type": "code",
   "execution_count": 42,
   "metadata": {},
   "outputs": [],
   "source": [
    "# Adjusted to get correlation score\n",
    "def sentiment_daily_avg_corr(price_hour, sentiment):\n",
    "#get average price to scale sentiment score\n",
    "    coin_mean = price_hour['1. open'].mean()\n",
    "#clean data frame\n",
    "    sentiment = sentiment.drop(columns=['id', 'text'], axis=1)\n",
    "    sentiment['created_at'] = pd.to_datetime(sentiment['created_at'])\n",
    "#transform data frame\n",
    "    sentiment.loc[sentiment['sentiment'] == 'NEGATIVE' , 'probability'] *= -coin_mean + coin_mean\n",
    "    sentiment.loc[sentiment['sentiment'] == 'POSITIVE' , 'probability'] *= coin_mean +coin_mean\n",
    "    sentiment = sentiment.drop(columns=['sentiment'])\n",
    "    sentiment = sentiment.sort_index(ascending=False)\n",
    "#convert index to year-month-day\n",
    "    sentiment['created_at'] = sentiment['created_at'].dt.date\n",
    "#group by day and get daily average    \n",
    "    sentiment= sentiment.groupby(by=['created_at']).mean()\n",
    "    return sentiment"
   ]
  },
  {
   "cell_type": "code",
   "execution_count": 115,
   "metadata": {},
   "outputs": [],
   "source": [
    "#Correlation coeff based on the sentiment daily average, vs daily price dataframe\n",
    "def price_sentiment_corr(price_hour, price_day, sentiment):\n",
    "    #Get table sentiment daily average dataframe \n",
    "    sentiment_avg = sentiment_daily_avg_corr(price_hour, sentiment)\n",
    "    #prepare daily price column to add to sentiment_avg dataframe\n",
    "    price_day_adjusted = price_day.loc[str(sentiment_avg.index[0]):str(sentiment_avg.index[-1])]\n",
    "    #add price column \n",
    "    sentiment_avg['price'] = price_day_adjusted['price'].values\n",
    "    corr_matrix = sentiment_avg.corr()\n",
    "    x_corr = corr_matrix['price']  \n",
    "    correlation = round(x_corr['probability'],2)\n",
    "    return f'Correlation coefficient vs daily: {correlation}'"
   ]
  },
  {
   "cell_type": "code",
   "execution_count": 116,
   "metadata": {},
   "outputs": [],
   "source": [
    "#Correlation coeff based on the sentiment daily average, vs 24-hour average price of the hourly price dataframe\n",
    "def price_sentiment_corr_2(price_hour, sentiment):\n",
    "    #Get table sentiment daily average dataframe \n",
    "    sentiment_avg = sentiment_daily_avg_corr(price_hour, sentiment)\n",
    "    #Get daily average dataframe from the hourly price dataframe\n",
    "    price_hour['index'] = price_hour.index\n",
    "    price_hour['index'] = pd.to_datetime(price_hour['index'])\n",
    "    price_hour['index'] = price_hour['index'].dt.date\n",
    "    price_hour = price_hour.groupby(by=['index']).mean()\n",
    "    price_hour.index = price_hour.index.map(str)\n",
    "    #prepare daily price column to add to sentiment_avg dataframe\n",
    "    price_hour_adjusted = price_hour.loc[str(sentiment_avg.index[0]):str(sentiment_avg.index[-1])]\n",
    "    #add price column \n",
    "    sentiment_avg['price'] = price_hour_adjusted['1. open'].values\n",
    "    corr_matrix = sentiment_avg.corr()\n",
    "    x_corr = corr_matrix['price']  \n",
    "    correlation = round(x_corr['probability'],2)\n",
    "    return f'Correlation coefficient vs 24-hour average: {correlation}'"
   ]
  },
  {
   "cell_type": "code",
   "execution_count": 25,
   "metadata": {},
   "outputs": [],
   "source": [
    "ph = crypto_price_hour('btc')"
   ]
  },
  {
   "cell_type": "code",
   "execution_count": 125,
   "metadata": {},
   "outputs": [],
   "source": [
    "phtest = ph.copy()"
   ]
  },
  {
   "cell_type": "code",
   "execution_count": 126,
   "metadata": {},
   "outputs": [],
   "source": [
    "phtest['index'] = pd.to_datetime(phtest['index'])\n",
    "phtest['index'] = phtest['index'].dt.date\n",
    "phtest = phtest.groupby(by=['index']).mean()"
   ]
  },
  {
   "cell_type": "code",
   "execution_count": 127,
   "metadata": {},
   "outputs": [
    {
     "data": {
      "text/html": [
       "<div>\n",
       "<style scoped>\n",
       "    .dataframe tbody tr th:only-of-type {\n",
       "        vertical-align: middle;\n",
       "    }\n",
       "\n",
       "    .dataframe tbody tr th {\n",
       "        vertical-align: top;\n",
       "    }\n",
       "\n",
       "    .dataframe thead th {\n",
       "        text-align: right;\n",
       "    }\n",
       "</style>\n",
       "<table border=\"1\" class=\"dataframe\">\n",
       "  <thead>\n",
       "    <tr style=\"text-align: right;\">\n",
       "      <th></th>\n",
       "      <th>1. open</th>\n",
       "    </tr>\n",
       "    <tr>\n",
       "      <th>index</th>\n",
       "      <th></th>\n",
       "    </tr>\n",
       "  </thead>\n",
       "  <tbody>\n",
       "    <tr>\n",
       "      <th>2021-05-15</th>\n",
       "      <td>48122.050000</td>\n",
       "    </tr>\n",
       "    <tr>\n",
       "      <th>2021-05-16</th>\n",
       "      <td>47658.715417</td>\n",
       "    </tr>\n",
       "    <tr>\n",
       "      <th>2021-05-17</th>\n",
       "      <td>44342.585000</td>\n",
       "    </tr>\n",
       "    <tr>\n",
       "      <th>2021-05-18</th>\n",
       "      <td>44166.228333</td>\n",
       "    </tr>\n",
       "    <tr>\n",
       "      <th>2021-05-19</th>\n",
       "      <td>39274.547917</td>\n",
       "    </tr>\n",
       "  </tbody>\n",
       "</table>\n",
       "</div>"
      ],
      "text/plain": [
       "                 1. open\n",
       "index                   \n",
       "2021-05-15  48122.050000\n",
       "2021-05-16  47658.715417\n",
       "2021-05-17  44342.585000\n",
       "2021-05-18  44166.228333\n",
       "2021-05-19  39274.547917"
      ]
     },
     "execution_count": 127,
     "metadata": {},
     "output_type": "execute_result"
    }
   ],
   "source": [
    "phtest.head()"
   ]
  },
  {
   "cell_type": "code",
   "execution_count": 122,
   "metadata": {},
   "outputs": [],
   "source": [
    "pday = crypto_price_day('btc')"
   ]
  },
  {
   "cell_type": "code",
   "execution_count": 28,
   "metadata": {},
   "outputs": [],
   "source": [
    "what = crypto_tweets('bitcoin')"
   ]
  },
  {
   "cell_type": "code",
   "execution_count": 128,
   "metadata": {},
   "outputs": [
    {
     "data": {
      "text/html": [
       "<div>\n",
       "<style scoped>\n",
       "    .dataframe tbody tr th:only-of-type {\n",
       "        vertical-align: middle;\n",
       "    }\n",
       "\n",
       "    .dataframe tbody tr th {\n",
       "        vertical-align: top;\n",
       "    }\n",
       "\n",
       "    .dataframe thead th {\n",
       "        text-align: right;\n",
       "    }\n",
       "</style>\n",
       "<table border=\"1\" class=\"dataframe\">\n",
       "  <thead>\n",
       "    <tr style=\"text-align: right;\">\n",
       "      <th></th>\n",
       "      <th>probability</th>\n",
       "    </tr>\n",
       "    <tr>\n",
       "      <th>created_at</th>\n",
       "      <th></th>\n",
       "    </tr>\n",
       "  </thead>\n",
       "  <tbody>\n",
       "    <tr>\n",
       "      <th>2021-06-22</th>\n",
       "      <td>25424.880249</td>\n",
       "    </tr>\n",
       "    <tr>\n",
       "      <th>2021-06-23</th>\n",
       "      <td>31878.223138</td>\n",
       "    </tr>\n",
       "    <tr>\n",
       "      <th>2021-06-24</th>\n",
       "      <td>32610.601951</td>\n",
       "    </tr>\n",
       "    <tr>\n",
       "      <th>2021-06-25</th>\n",
       "      <td>31543.890263</td>\n",
       "    </tr>\n",
       "    <tr>\n",
       "      <th>2021-06-26</th>\n",
       "      <td>35239.546476</td>\n",
       "    </tr>\n",
       "  </tbody>\n",
       "</table>\n",
       "</div>"
      ],
      "text/plain": [
       "             probability\n",
       "created_at              \n",
       "2021-06-22  25424.880249\n",
       "2021-06-23  31878.223138\n",
       "2021-06-24  32610.601951\n",
       "2021-06-25  31543.890263\n",
       "2021-06-26  35239.546476"
      ]
     },
     "execution_count": 128,
     "metadata": {},
     "output_type": "execute_result"
    }
   ],
   "source": [
    "sentiment_daily_avg_corr(ph, what)"
   ]
  },
  {
   "cell_type": "code",
   "execution_count": 129,
   "metadata": {
    "scrolled": false
   },
   "outputs": [
    {
     "data": {
      "text/plain": [
       "'Correlation coefficient vs daily: 0.18'"
      ]
     },
     "execution_count": 129,
     "metadata": {},
     "output_type": "execute_result"
    }
   ],
   "source": [
    "price_sentiment_corr(ph, pday, what)"
   ]
  },
  {
   "cell_type": "code",
   "execution_count": 118,
   "metadata": {},
   "outputs": [
    {
     "data": {
      "text/plain": [
       "'Correlation coefficient vs 24-hour average: 0.12'"
      ]
     },
     "execution_count": 118,
     "metadata": {},
     "output_type": "execute_result"
    }
   ],
   "source": [
    "price_sentiment_corr_2(ph, what)"
   ]
  },
  {
   "cell_type": "code",
   "execution_count": 21,
   "metadata": {},
   "outputs": [],
   "source": [
    "def plot_sentiment_price(price, sentiment):\n",
    "#price plot to start 12 hours before the sentiment daily average plot. \n",
    "    time = sentiment.index[0]\n",
    "    time = time.replace('23:00:00','12:00:00')\n",
    "    price = price.loc[time:]\n",
    "#plot code\n",
    "    x = price.index\n",
    "    y = price['1. open']\n",
    "    tick_spacing = 25\n",
    "#figsize(x,y) adjusted to make x-axis value readable \n",
    "    fig, ax = plt.subplots(1,1, figsize=(15,6), dpi=100)\n",
    "    ax.plot(x,y, label = 'cryptocurrency')\n",
    "    ax.set_ylabel('Open')\n",
    "    ax.set_xlabel('Datetime')\n",
    "    ax.plot(sentiment.index,sentiment['probability'], label='sentiment')\n",
    "    ax.legend()\n",
    "    ax.set_title('Price vs Sentiment')\n",
    "    ax.xaxis.set_major_locator(ticker.MultipleLocator(tick_spacing))\n",
    "    plt.tight_layout()\n",
    "    plt.show()\n",
    "    return fig.savefig('fig1.png')"
   ]
  },
  {
   "cell_type": "code",
   "execution_count": 91,
   "metadata": {},
   "outputs": [],
   "source": [
    "def do_everything():\n",
    "    symbol = input('Input cryptocurrency symbol:')\n",
    "    coin = input('Search cryptocurrency on twitter:')\n",
    "    price_hour = crypto_price_hour(symbol)\n",
    "    price_day = crypto_price_day(symbol)\n",
    "    crypto_df = crypto_tweets(coin)\n",
    "    sentiment = sentiment_daily_avg(price_hour, crypto_df)\n",
    "    corr = price_sentiment_corr(price_hour, price_day, crypto_df)\n",
    "    corr2 = price_sentiment_corr_2(price_hour, crypto_df)\n",
    "    plot_sentiment_price(price_hour, sentiment)\n",
    "    return corr, corr2"
   ]
  },
  {
   "cell_type": "code",
   "execution_count": 132,
   "metadata": {},
   "outputs": [
    {
     "name": "stdout",
     "output_type": "stream",
     "text": [
      "Input cryptocurrency symbol:btc\n",
      "Search cryptocurrency on twitter:bitcoin\n"
     ]
    },
    {
     "data": {
      "image/png": "[encoded data removed]",
      "text/plain": [
       "<Figure size 1500x600 with 1 Axes>"
      ]
     },
     "metadata": {
      "needs_background": "light"
     },
     "output_type": "display_data"
    },
    {
     "data": {
      "text/plain": [
       "('Correlation coefficient vs daily: 0.02',\n",
       " 'Correlation coefficient vs 24-hour average: -0.08')"
      ]
     },
     "execution_count": 132,
     "metadata": {},
     "output_type": "execute_result"
    }
   ],
   "source": [
    "do_everything()"
   ]
  }
 ],
 "metadata": {
  "kernelspec": {
   "display_name": "Python 3",
   "language": "python",
   "name": "python3"
  },
  "language_info": {
   "codemirror_mode": {
    "name": "ipython",
    "version": 3
   },
   "file_extension": ".py",
   "mimetype": "text/x-python",
   "name": "python",
   "nbconvert_exporter": "python",
   "pygments_lexer": "ipython3",
   "version": "3.7.4"
  }
 },
 "nbformat": 4,
 "nbformat_minor": 2
}
